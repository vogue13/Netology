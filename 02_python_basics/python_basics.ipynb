{
 "cells": [
  {
   "cell_type": "markdown",
   "metadata": {},
   "source": [
    "**Задание 1**. Даны 2 строки: *long_phrase* и *short_phrase*. \n",
    "Напишите код, который проверяет действительно ли длинная фраза *long_phrase* длиннее короткой *short_phrase*. И выводит *True* или *False* в зависимости от результата сравнения."
   ]
  },
  {
   "cell_type": "code",
   "execution_count": 2,
   "metadata": {},
   "outputs": [],
   "source": [
    "long_phrase = 'Насколько проще было бы писать программы, если бы не заказчики'\n",
    "short_phrase = '640Кб должно хватить для любых задач. Билл Гейтс (по легенде)'"
   ]
  },
  {
   "cell_type": "code",
   "execution_count": 4,
   "metadata": {},
   "outputs": [
    {
     "data": {
      "text/plain": [
       "True"
      ]
     },
     "execution_count": 4,
     "metadata": {},
     "output_type": "execute_result"
    }
   ],
   "source": [
    "len(long_phrase)>len(short_phrase)\n"
   ]
  },
  {
   "cell_type": "markdown",
   "metadata": {},
   "source": [
    "**Задание 2**. Дано значение объема файла в байтах (*в мегабайте 2^20 байт*). Напишите перевод этого значения в мегабайты в формате: \"*Объем файла равен 213.68Mb*\"."
   ]
  },
  {
   "cell_type": "code",
   "execution_count": 19,
   "metadata": {},
   "outputs": [
    {
     "name": "stdout",
     "output_type": "stream",
     "text": [
      "Введите объем в байтах100000000\n",
      "Объем файла равен  95.367431640625 Mb\n"
     ]
    }
   ],
   "source": [
    "volume = int(input('Введите объем в байтах'))\n",
    "\n",
    "print ('Объем файла равен ', volume / (1024**2), 'Mb')"
   ]
  },
  {
   "cell_type": "markdown",
   "metadata": {},
   "source": [
    "**Задание 3**. Разработать приложение для определения знака зодиака по дате рождения. Пример:\n",
    "\n",
    "Введите месяц: март\n",
    "\n",
    "Введите число: 6\n",
    "\n",
    "Вывод:\n",
    "Рыбы"
   ]
  },
  {
   "cell_type": "code",
   "execution_count": 20,
   "metadata": {},
   "outputs": [
    {
     "name": "stdout",
     "output_type": "stream",
     "text": [
      "Введите месяц март\n",
      "Введите число 13\n",
      "Вывод: Рыбы\n"
     ]
    }
   ],
   "source": [
    "month = input('Введите месяц ')\n",
    "date = int(input('Введите число '))\n",
    "\n",
    "if (month == 'март' and date < 22) or (month == 'февраль' and date > 19):\n",
    "    print('Вывод: Рыбы')\n",
    "elif (month == 'март' and date >= 22) or (month == 'апрель' and date < 22):\n",
    "    print('Вывод: Овен')\n",
    "elif (month == 'апрель' and date >= 22) or (month == 'май' and date < 22):\n",
    "    print('Вывод: Телец')\n",
    "elif (month == 'май' and date >= 22) or (month == 'июнь' and date < 22):\n",
    "    print('Вывод: Близнецы')\n",
    "elif (month == 'июнь' and date >= 22) or (month == 'июль' and date < 22):\n",
    "    print('Вывод: Рак')\n",
    "elif (month == 'июль' and date >= 22) or (month == 'август' and date < 22):\n",
    "    print('Вывод: Лев')\n",
    "elif (month == 'август' and date >= 22) or (month == 'сентябрь' and date < 22):\n",
    "    print('Вывод: Дева')\n",
    "elif (month == 'сентябрь' and date >= 22) or (month == 'октябрь' and date < 22):\n",
    "    print('Вывод: Весы')\n",
    "elif (month == 'октябрь' and date >= 22) or (month == 'ноябрь' and date < 21):\n",
    "    print('Вывод: Скорпион')\n",
    "elif (month == 'ноябрь' and date >= 21) or (month == 'декабрь' and date < 22):\n",
    "    print('Вывод: Стрелец')\n",
    "elif (month == 'декабрь' and date >= 22) or (month == 'январь' and date < 20):\n",
    "    print('Вывод: Козерог')\n",
    "elif (month == 'январь' and date >= 20) or (month == 'февраль' and date < 20):\n",
    "    print('Вывод: Водолей')\n",
    "else:  print('Проверьте правильность данных. Обращаем внимание, что название месяца вводится с маленькой буквы')"
   ]
  },
  {
   "cell_type": "markdown",
   "metadata": {},
   "source": [
    "**Задание 4**. Нужно разработать приложение для финансового планирования.\n",
    "Приложение учитывает сколько уходит на ипотеку, \"на жизнь\" и сколько нужно отложить на пенсию.\n",
    "Пользователь вводит:\n",
    "- заработанную плату в месяц.\n",
    "- сколько процентов от ЗП уходит на ипотеку.\n",
    "- сколько процентов от ЗП уходит \"на жизнь\".\n",
    "- сколько раз приходит премия в год.\n",
    "\n",
    "Остальная часть заработанной платы откладывается на пенсию.\n",
    "\n",
    "Также пользователю приходит премия в размере зарплаты, от которой половина уходит на отпуск, а вторая половина откладывается.\n",
    "\n",
    "Программа должна учитывать сколько премий было в год.\n",
    "\n",
    "Нужно вывести сколько денег тратит пользователь на ипотеку и сколько он накопит за год.\n",
    "\n",
    "Пример:\n",
    "\n",
    "Введите заработанную плату в месяц: 100000\n",
    "\n",
    "Введите сколько процентов уходит на ипотеку: 30\n",
    "\n",
    "Введите сколько процентов уходит на жизнь: 50\n",
    "\n",
    "Введите количество премий за год: 2\n",
    "\n",
    "Вывод:\n",
    "На ипотеку было потрачено: 360000 рублей\n",
    "Было накоплено: 340000 рублей"
   ]
  },
  {
   "cell_type": "code",
   "execution_count": 16,
   "metadata": {},
   "outputs": [
    {
     "name": "stdout",
     "output_type": "stream",
     "text": [
      "Введите заработанную плату в месяц: 100000\n",
      "Введите сколько процентов уходит на ипотеку: 30\n",
      "Введите сколько процентов уходит на жизнь: 50\n",
      "Введите количество премий за год: 2\n",
      "На ипотеку было потрачено:  360000.0  рублей Было накоплено:  340000.0  рублей\n"
     ]
    }
   ],
   "source": [
    "salary_month = int(input('Введите заработанную плату в месяц: '))\n",
    "mortgage_percentage = int(input('Введите сколько процентов уходит на ипотеку: '))\n",
    "spending_percentage = int(input('Введите сколько процентов уходит на жизнь: '))\n",
    "bonus_number = int(input('Введите количество премий за год: '))\n",
    "mortgage_spending = salary_month * mortgage_percentage / 100 * 12\n",
    "savings = salary_month * (100 - mortgage_percentage - spending_percentage) / 100 * 12 + salary_month * bonus_number / 2\n",
    "print('На ипотеку было потрачено: ',mortgage_spending,' рублей. Было накоплено: ', savings,' рублей')"
   ]
  },
  {
   "cell_type": "code",
   "execution_count": null,
   "metadata": {},
   "outputs": [],
   "source": []
  }
 ],
 "metadata": {
  "kernelspec": {
   "display_name": "Python 3",
   "language": "python",
   "name": "python3"
  },
  "language_info": {
   "codemirror_mode": {
    "name": "ipython",
    "version": 3
   },
   "file_extension": ".py",
   "mimetype": "text/x-python",
   "name": "python",
   "nbconvert_exporter": "python",
   "pygments_lexer": "ipython3",
   "version": "3.7.6"
  }
 },
 "nbformat": 4,
 "nbformat_minor": 2
}
