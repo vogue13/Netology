{
 "cells": [
  {
   "cell_type": "markdown",
   "metadata": {},
   "source": [
    "Вы работаете секретарем и вам постоянно приходят различные документы. Вы должны быть очень внимательны, чтобы не потерять ни один документ. Каталог документов хранится в следующем виде:"
   ]
  },
  {
   "cell_type": "markdown",
   "metadata": {},
   "source": [
    "Необходимо реализовать пользовательские команды (внимание! это не название функций, которые должны быть выразительными, а команды, которые вводит пользователь, чтобы получить необходимый результат):\n",
    "  \n",
    "- p – people – команда, которая спросит номер документа и выведет имя человека, которому он принадлежит;  \n",
    "- s – shelf – команда, которая спросит номер документа и выведет номер полки, на которой он находится  \n",
    "*Правильно обработайте ситуации, когда пользователь будет вводить несуществующий документ*.\n",
    "- l – list – команда, которая выведет список всех документов в формате   \n",
    "**passport \"2207 876234\" \"Василий Гупкин\"**  \n",
    "- as – add shelf – команда, которая спросит номер новой полки и добавит ее в перечень. *Предусмотрите случай, когда пользователь добавляет полку, которая уже существует*.\n",
    "- d – delete – команда, которая спросит номер документа и удалит его из каталога и из перечня полок. *Предусмотрите сценарий, когда пользователь вводит несуществующий документ*;  \n",
    "- m – move – команда, которая спросит номер документа и целевую полку и переместит его с текущей полки на целевую. *Корректно обработайте кейсы, когда пользователь пытается переместить несуществующий документ или переместить документ на несуществующую полку*;  \n",
    "- a – add – команда, которая добавит новый документ в каталог и в перечень полок, спросив его номер, тип, имя владельца и номер полки, на котором он будет храниться. *Корректно обработайте ситуацию, когда пользователь будет пытаться добавить документ на несуществующую полку*."
   ]
  },
  {
   "cell_type": "code",
   "execution_count": 15,
   "metadata": {},
   "outputs": [],
   "source": [
    "documents = [\n",
    "    {'type': 'passport', 'number': '2207 876234', 'name': 'Василий Гупкин'},\n",
    "    {'type': 'invoice', 'number': '11-2', 'name': 'Геннадий Покемонов'},\n",
    "    {'type': 'insurance', 'number': '10006', 'name': 'Аристарх Павлов'}\n",
    "]"
   ]
  },
  {
   "cell_type": "markdown",
   "metadata": {},
   "source": [
    "Перечень полок, на которых находятся документы хранится в следующем виде:"
   ]
  },
  {
   "cell_type": "code",
   "execution_count": 16,
   "metadata": {},
   "outputs": [],
   "source": [
    "directories = {\n",
    "    '1': ['2207 876234', '11-2'],\n",
    "    '2': ['10006'],\n",
    "    '3': []\n",
    "}"
   ]
  },
  {
   "cell_type": "code",
   "execution_count": 17,
   "metadata": {},
   "outputs": [],
   "source": [
    "# p - people\n",
    "def find_doc(docs):\n",
    "    user_doc = input('Введите номер документа ')\n",
    "    for data in docs:  \n",
    "        if data['number'] == user_doc:\n",
    "            return  f\"Владелец документа - {data['name']} \"\n",
    "    return 'Документ с таким номером не найден'\n"
   ]
  },
  {
   "cell_type": "code",
   "execution_count": null,
   "metadata": {},
   "outputs": [],
   "source": [
    "find_doc(documents)"
   ]
  },
  {
   "cell_type": "code",
   "execution_count": 18,
   "metadata": {},
   "outputs": [],
   "source": [
    "#s – shelf\n",
    "def find_shelf(dirs):\n",
    "    user_doc = input('Введите номер документа ')\n",
    "    for key, value in dirs.items():\n",
    "        if user_doc in value:\n",
    "            return f'Документ {user_doc} находится на полке {key}'\n",
    "              \n",
    "    return 'Документ с таким номером не найден'\n",
    "          "
   ]
  },
  {
   "cell_type": "code",
   "execution_count": null,
   "metadata": {},
   "outputs": [],
   "source": [
    "find_shelf(directories)"
   ]
  },
  {
   "cell_type": "code",
   "execution_count": 19,
   "metadata": {},
   "outputs": [],
   "source": [
    "# l – list – команда, которая выведет список всех документов в формате\n",
    "# passport \"2207 876234\" \"Василий Гупкин\"\n",
    "\n",
    "def show_docs(docs):\n",
    "    for data in docs:\n",
    "        print(data['type']+' \"'+data['number']+'\" \"'+data['name']+'\"')\n"
   ]
  },
  {
   "cell_type": "code",
   "execution_count": null,
   "metadata": {},
   "outputs": [],
   "source": [
    "show_docs(documents)"
   ]
  },
  {
   "cell_type": "code",
   "execution_count": 20,
   "metadata": {},
   "outputs": [],
   "source": [
    "# as – add shelf – команда, которая спросит номер новой полки и добавит ее в перечень.\n",
    "# Предусмотрите случай, когда пользователь добавляет полку, которая уже существует.\n",
    "\n",
    "def add_shelf(dirs):\n",
    "    user_shelf  = input('Введите № новой полки ')\n",
    "    if dirs.get(user_shelf):\n",
    "        print(f'Полка с номером {user_shelf} уже существует')\n",
    "    else:\n",
    "        dirs[user_shelf] = []\n",
    "        print(f'Новая полка № {user_shelf} добавлена')\n",
    "        "
   ]
  },
  {
   "cell_type": "code",
   "execution_count": null,
   "metadata": {},
   "outputs": [],
   "source": [
    "add_shelf(directories)"
   ]
  },
  {
   "cell_type": "code",
   "execution_count": 21,
   "metadata": {},
   "outputs": [],
   "source": [
    "# d – delete – команда, которая спросит номер документа и удалит его из каталога и из перечня полок. \n",
    "# Предусмотрите сценарий, когда пользователь вводит несуществующий документ;\n",
    "def delete_all(docs,dirs):\n",
    "\n",
    "    user_doc = input('Введите номер документа ')\n",
    "    for data in docs:\n",
    "        if data['number'] == user_doc:\n",
    "            docs.remove(data)\n",
    "            for key, value in dirs.items():\n",
    "                if user_doc in value:\n",
    "                    value.remove(user_doc)\n",
    "                    return f'Документ {user_doc} удален из каталога и c полки'\n",
    "     \n",
    "    return f'Документ с номером {user_doc} не найден'"
   ]
  },
  {
   "cell_type": "code",
   "execution_count": null,
   "metadata": {},
   "outputs": [],
   "source": [
    "delete_all(documents,directories)\n"
   ]
  },
  {
   "cell_type": "code",
   "execution_count": 22,
   "metadata": {},
   "outputs": [],
   "source": [
    "# m – move – команда, которая спросит номер документа и целевую полку и переместит его с текущей полки на целевую.\n",
    "# Корректно обработайте кейсы, когда пользователь пытается переместить \n",
    "# несуществующий документ или переместить документ на несуществующую полку;\n",
    "\n",
    "def move_doc(dirs):\n",
    "    user_doc = input('Введите номер документа ')\n",
    "    user_shelf = input ('На какой полке вы хотели бы его разместить? ')\n",
    "    if user_shelf not in dirs.keys():\n",
    "        return f'Полка  с номером {user_shelf} не существует'\n",
    "    else:\n",
    "        for key, value in dirs.items():\n",
    "            if user_doc in value:\n",
    "                value.remove(user_doc)\n",
    "                dirs[user_shelf].append(user_doc)\n",
    "                return f'Документ с номером {user_doc} размещен на полке {user_shelf}'\n",
    "        return f'Документ с номером {user_doc} не найден'\n",
    "             "
   ]
  },
  {
   "cell_type": "code",
   "execution_count": null,
   "metadata": {},
   "outputs": [],
   "source": [
    "move_doc(directories)"
   ]
  },
  {
   "cell_type": "code",
   "execution_count": 23,
   "metadata": {},
   "outputs": [],
   "source": [
    "def add_doc(docs, dirs):  \n",
    "    user_shelf = input ('На какой полке вы хотели бы разместить документ? ')\n",
    "    if user_shelf not in dirs:\n",
    "        return f'Полка  с номером {user_shelf} не существует'\n",
    "    else:\n",
    "        user_type = input('Введите тип документа ')\n",
    "        user_doc = input('Введите номер документа ')\n",
    "        user_name = input('Введите имя владельца ') \n",
    "        docs.append ({'type' : user_type, 'number' : user_doc, 'name' : user_name})\n",
    "        dirs[user_shelf].append(user_doc)\n",
    "        return f'Документ с номером {user_doc} размещен на полке {user_shelf}'\n",
    "    "
   ]
  },
  {
   "cell_type": "code",
   "execution_count": null,
   "metadata": {},
   "outputs": [],
   "source": [
    "add_doc(documents,directories)\n"
   ]
  },
  {
   "cell_type": "code",
   "execution_count": null,
   "metadata": {},
   "outputs": [],
   "source": [
    "print(documents,directories)"
   ]
  },
  {
   "cell_type": "code",
   "execution_count": 25,
   "metadata": {},
   "outputs": [],
   "source": [
    "def  alyona(docs, dirs):\n",
    "    print(\"Добрый день! Я ваш персональный офисный помощник Алена. Чем я могу вам помочь?\")\n",
    "    print(\"Нажмите 'p', если вы хотите узнать по номеру владельца документа.\")\n",
    "    print(\"Нажмите 's', если вы хотите узнать по номеру документа номер полки.\")\n",
    "    print(\"Нажмите 'l', если вы хотите вывести список всех документов.\")\n",
    "    print(\"Нажмите 'as', если вы хотите добавить новую полку в перечень.\")\n",
    "    print(\"Нажмите 'd', если вы хотите удалить документ из каталога и из перечня полок.\")\n",
    "    print(\"Нажмите 'm', если вы хотите перенести документ на другую полку.\")\n",
    "    print(\"Нажмите 'a', если вы хотите добавить новый документ.\")\n",
    "    user_command = input('Введите код нужной команды: ')\n",
    "    if user_command == 'p':\n",
    "        find_doc(docs)\n",
    "    elif user_command =='s':\n",
    "        find_shelf(dirs)\n",
    "    elif user_command == 'l':\n",
    "        show_docs(docs)\n",
    "    elif user_command == 'as':\n",
    "        add_shelf(dirs)\n",
    "    elif user_command == 'd':\n",
    "        delete_all(docs,dirs)\n",
    "    elif user_command == 'm':\n",
    "        move_doc(dirs)\n",
    "    elif user_command == 'a':\n",
    "        add_doc(docs,dirs)\n",
    "    else:\n",
    "        print('Команда с таким кодом не существует')\n",
    "            "
   ]
  },
  {
   "cell_type": "code",
   "execution_count": 27,
   "metadata": {},
   "outputs": [
    {
     "name": "stdout",
     "output_type": "stream",
     "text": [
      "Добрый день! Я ваш персональный офисный помощник Алена. Чем я могу вам помочь?\n",
      "Нажмите 'p', если вы хотите узнать по номеру владельца документа.\n",
      "Нажмите 's', если вы хотите узнать по номеру документа номер полки.\n",
      "Нажмите 'l', если вы хотите вывести список всех документов.\n",
      "Нажмите 'as', если вы хотите добавить новую полку в перечень.\n",
      "Нажмите 'd', если вы хотите удалить документ из каталога и из перечня полок.\n",
      "Нажмите 'm', если вы хотите перенести документ на другую полку.\n",
      "Нажмите 'a', если вы хотите добавить новый документ.\n",
      "Введите код нужной команды: a\n",
      "На какой полке вы хотели бы разместить документ? 3\n",
      "Введите тип документа df\n",
      "Введите номер документа fh\n",
      "Введите имя владельца gh\n"
     ]
    }
   ],
   "source": [
    "alyona(documents,directories)\n"
   ]
  },
  {
   "cell_type": "code",
   "execution_count": null,
   "metadata": {},
   "outputs": [],
   "source": []
  },
  {
   "cell_type": "code",
   "execution_count": null,
   "metadata": {},
   "outputs": [],
   "source": []
  }
 ],
 "metadata": {
  "kernelspec": {
   "display_name": "Python 3",
   "language": "python",
   "name": "python3"
  },
  "language_info": {
   "codemirror_mode": {
    "name": "ipython",
    "version": 3
   },
   "file_extension": ".py",
   "mimetype": "text/x-python",
   "name": "python",
   "nbconvert_exporter": "python",
   "pygments_lexer": "ipython3",
   "version": "3.7.6"
  }
 },
 "nbformat": 4,
 "nbformat_minor": 2
}
