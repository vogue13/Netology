{
 "cells": [
  {
   "cell_type": "markdown",
   "metadata": {},
   "source": [
    "Вы работаете секретарем и вам постоянно приходят различные документы. Вы должны быть очень внимательны, чтобы не потерять ни один документ. Каталог документов хранится в следующем виде:"
   ]
  },
  {
   "cell_type": "markdown",
   "metadata": {},
   "source": [
    "Необходимо реализовать пользовательские команды (внимание! это не название функций, которые должны быть выразительными, а команды, которые вводит пользователь, чтобы получить необходимый результат):\n",
    "  \n",
    "- p – people – команда, которая спросит номер документа и выведет имя человека, которому он принадлежит;  \n",
    "- s – shelf – команда, которая спросит номер документа и выведет номер полки, на которой он находится  \n",
    "*Правильно обработайте ситуации, когда пользователь будет вводить несуществующий документ*.\n",
    "- l – list – команда, которая выведет список всех документов в формате   \n",
    "**passport \"2207 876234\" \"Василий Гупкин\"**  \n",
    "- as – add shelf – команда, которая спросит номер новой полки и добавит ее в перечень. *Предусмотрите случай, когда пользователь добавляет полку, которая уже существует*.\n",
    "- d – delete – команда, которая спросит номер документа и удалит его из каталога и из перечня полок. *Предусмотрите сценарий, когда пользователь вводит несуществующий документ*;  \n",
    "- m – move – команда, которая спросит номер документа и целевую полку и переместит его с текущей полки на целевую. *Корректно обработайте кейсы, когда пользователь пытается переместить несуществующий документ или переместить документ на несуществующую полку*;  \n",
    "- a – add – команда, которая добавит новый документ в каталог и в перечень полок, спросив его номер, тип, имя владельца и номер полки, на котором он будет храниться. *Корректно обработайте ситуацию, когда пользователь будет пытаться добавить документ на несуществующую полку*."
   ]
  },
  {
   "cell_type": "code",
   "execution_count": 25,
   "metadata": {},
   "outputs": [],
   "source": [
    "documents = [\n",
    "    {'type': 'passport', 'number': '2207 876234', 'name': 'Василий Гупкин'},\n",
    "    {'type': 'invoice', 'number': '11-2', 'name': 'Геннадий Покемонов'},\n",
    "    {'type': 'insurance', 'number': '10006', 'name': 'Аристарх Павлов'}\n",
    "]"
   ]
  },
  {
   "cell_type": "markdown",
   "metadata": {},
   "source": [
    "Перечень полок, на которых находятся документы хранится в следующем виде:"
   ]
  },
  {
   "cell_type": "code",
   "execution_count": 26,
   "metadata": {},
   "outputs": [],
   "source": [
    "directories = {\n",
    "    '1': ['2207 876234', '11-2'],\n",
    "    '2': ['10006'],\n",
    "    '3': []\n",
    "}"
   ]
  },
  {
   "cell_type": "code",
   "execution_count": 27,
   "metadata": {},
   "outputs": [],
   "source": [
    "# p - people\n",
    "def find_doc(docs):\n",
    "\n",
    "    user_doc = input('Введите номер документа ')\n",
    "    for data in docs:\n",
    "        if data['number'] == user_doc:\n",
    "            return print('Владелец документа -', data['name'])\n",
    "    return print('Документ с таким номером не найден')\n"
   ]
  },
  {
   "cell_type": "code",
   "execution_count": 73,
   "metadata": {},
   "outputs": [
    {
     "name": "stdout",
     "output_type": "stream",
     "text": [
      "Введите номер документа 10006\n",
      "Владелец документа - Аристарх Павлов\n"
     ]
    }
   ],
   "source": [
    "find_doc(documents)"
   ]
  },
  {
   "cell_type": "code",
   "execution_count": 28,
   "metadata": {},
   "outputs": [],
   "source": [
    "#s – shelf\n",
    "def find_shelf(dirs):\n",
    "    user_doc = input('Введите номер документа ')\n",
    "    for key, value in dirs.items():\n",
    "        for el in value:\n",
    "            if el == user_doc:\n",
    "                return print(f'Документ {user_doc} находится на полке {key}')\n",
    "              \n",
    "    return print('Документ с таким номером не найден')\n",
    "          "
   ]
  },
  {
   "cell_type": "code",
   "execution_count": 75,
   "metadata": {},
   "outputs": [
    {
     "name": "stdout",
     "output_type": "stream",
     "text": [
      "Введите номер документа 1567\n",
      "Документ с таким номером не найден\n"
     ]
    }
   ],
   "source": [
    "find_shelf(directories)"
   ]
  },
  {
   "cell_type": "code",
   "execution_count": 31,
   "metadata": {},
   "outputs": [],
   "source": [
    "# l – list – команда, которая выведет список всех документов в формате\n",
    "# passport \"2207 876234\" \"Василий Гупкин\"\n",
    "\n",
    "def show_docs(docs):\n",
    "    for data in docs:\n",
    "        print(data['type'], data['number'],data['name'] )\n",
    "    return\n"
   ]
  },
  {
   "cell_type": "code",
   "execution_count": 32,
   "metadata": {},
   "outputs": [
    {
     "name": "stdout",
     "output_type": "stream",
     "text": [
      "passport 2207 876234 Василий Гупкин\n",
      "invoice 11-2 Геннадий Покемонов\n",
      "insurance 10006 Аристарх Павлов\n"
     ]
    }
   ],
   "source": [
    "show_docs(documents)"
   ]
  },
  {
   "cell_type": "code",
   "execution_count": 44,
   "metadata": {},
   "outputs": [],
   "source": [
    "# as – add shelf – команда, которая спросит номер новой полки и добавит ее в перечень.\n",
    "# Предусмотрите случай, когда пользователь добавляет полку, которая уже существует.\n",
    "\n",
    "def add_shelf(dirs):\n",
    "    user_doc = input('Введите № новой полки ')\n",
    "    if user_doc in list(dirs.keys()):\n",
    "        return print(f'Полка с номером {user_doc} уже существует')\n",
    "    else:\n",
    "        dirs[user_doc] = []\n",
    "        return print(f'Новая полка № {user_doc} добавлена')\n",
    "        "
   ]
  },
  {
   "cell_type": "code",
   "execution_count": 45,
   "metadata": {},
   "outputs": [
    {
     "name": "stdout",
     "output_type": "stream",
     "text": [
      "Введите № новой полки 6\n",
      "Новая полка № 6 добавлена\n"
     ]
    }
   ],
   "source": [
    "add_shelf(directories)"
   ]
  },
  {
   "cell_type": "code",
   "execution_count": 34,
   "metadata": {},
   "outputs": [],
   "source": [
    "# d – delete – команда, которая спросит номер документа и удалит его из каталога и из перечня полок. \n",
    "# Предусмотрите сценарий, когда пользователь вводит несуществующий документ;\n",
    "def delete_all(docs,dirs):\n",
    "\n",
    "    user_doc = input('Введите номер документа ')\n",
    "    for data in docs:\n",
    "        if data['number'] == user_doc:\n",
    "            docs.remove(data)\n",
    "            for key, value in dirs.items():\n",
    "                for el in value:\n",
    "                    if user_doc == el:\n",
    "                        value.remove(user_doc)\n",
    "                        return print(f'Документ {user_doc} удален из каталога и c полки')\n",
    "     \n",
    "    return print(f'Документ с номером {user_doc} не найден')"
   ]
  },
  {
   "cell_type": "code",
   "execution_count": 86,
   "metadata": {},
   "outputs": [
    {
     "name": "stdout",
     "output_type": "stream",
     "text": [
      "Введите номер документа 12345\n",
      "Документ с номером 12345 не найден\n"
     ]
    }
   ],
   "source": [
    "delete_all(documents,directories)\n"
   ]
  },
  {
   "cell_type": "code",
   "execution_count": 36,
   "metadata": {},
   "outputs": [],
   "source": [
    "def move_to_shelf(dirs, user_doc):\n",
    "    user_shelf = input ('На какой полке вы хотели бы его разместить? ')\n",
    "    if user_shelf in dirs.keys():\n",
    "        dirs[user_shelf].append(user_doc)\n",
    "        return print (f'Документ с номером {user_doc} размещен на полке {user_shelf}')\n",
    "    else:\n",
    "        return print(f'Полка  с номером {user_shelf} не существует')\n",
    "    "
   ]
  },
  {
   "cell_type": "code",
   "execution_count": 35,
   "metadata": {},
   "outputs": [],
   "source": [
    "# m – move – команда, которая спросит номер документа и целевую полку и переместит его с текущей полки на целевую.\n",
    "# Корректно обработайте кейсы, когда пользователь пытается переместить \n",
    "# несуществующий документ или переместить документ на несуществующую полку;\n",
    "\n",
    "def move_doc(dirs):\n",
    "    user_doc = input('Введите номер документа ')\n",
    "    for key, value in dirs.items():\n",
    "        for el in value:\n",
    "            if user_doc == el:\n",
    "                move_to_shelf(dirs, user_doc) \n",
    "                return\n",
    "               \n",
    "                       \n",
    "    return print(f'Документ с номером {user_doc} не найден')\n",
    "   "
   ]
  },
  {
   "cell_type": "code",
   "execution_count": 24,
   "metadata": {},
   "outputs": [
    {
     "name": "stdout",
     "output_type": "stream",
     "text": [
      "Введите номер документа 11-2\n",
      "На какой полке вы хотели бы его разместить? 1\n",
      "Документ с номером 11-2 размещен на полке 1\n"
     ]
    }
   ],
   "source": [
    "move_doc(directories)"
   ]
  },
  {
   "cell_type": "code",
   "execution_count": 57,
   "metadata": {},
   "outputs": [],
   "source": [
    "def add_doc(docs, dirs):    \n",
    "    user_dict ={}\n",
    "    user_type = input('Введите тип документа')\n",
    "    user_doc = input('Введите номер документа')\n",
    "    user_name = input('Введите имя владельца') \n",
    "    user_dict['type'] = user_type\n",
    "    user_dict['number'] = user_doc\n",
    "    user_dict['name'] = user_name\n",
    "    docs.append(user_dict)\n",
    "    move_to_shelf(dirs, user_doc)\n",
    "    "
   ]
  },
  {
   "cell_type": "code",
   "execution_count": 17,
   "metadata": {},
   "outputs": [
    {
     "name": "stdout",
     "output_type": "stream",
     "text": [
      "На какой полке вы хотели бы его разместить? 1\n",
      "Документ с номером 2 размещен на полке 1\n"
     ]
    }
   ],
   "source": [
    "add_doc(documents,directories)\n"
   ]
  },
  {
   "cell_type": "code",
   "execution_count": 38,
   "metadata": {},
   "outputs": [],
   "source": [
    "def  alyona(docs, dirs):\n",
    "    print(\"Добрый день! Я ваш персональный офисный помощник Алена. Чем я могу вам помочь?\")\n",
    "    print(\"Нажмите 'p', если вы хотите узнать по номеру владельца документа.\")\n",
    "    print(\"Нажмите 's', если вы хотите узнать по номеру документа номер полки.\")\n",
    "    print(\"Нажмите 'l', если вы хотите вывести список всех документов.\")\n",
    "    print(\"Нажмите 'as', если вы хотите добавить новую полку в перечень.\")\n",
    "    print(\"Нажмите 'd', если вы хотите удалить документ из каталога и из перечня полок.\")\n",
    "    print(\"Нажмите 'm', если вы хотите перенести документ на другую полку.\")\n",
    "    print(\"Нажмите 'a', если вы хотите добавить новый документ.\")\n",
    "    user_command = input('Введите код нужной команды: ')\n",
    "    if user_command == 'p':\n",
    "        find_doc(docs)\n",
    "    elif user_command =='s':\n",
    "        find_shelf(dirs)\n",
    "    elif user_command == 'l':\n",
    "        show_docs(docs)\n",
    "    elif user_command == 'as':\n",
    "        add_shelf(dirs)\n",
    "    elif user_command == 'd':\n",
    "        delete_all(docs,dirs)\n",
    "    elif user_command == 'm':\n",
    "        move_doc(dirs)\n",
    "    elif user_command == 'a':\n",
    "        add_doc(docs,dirs)\n",
    "    else:\n",
    "        print('Команда с таким кодом не существует')\n",
    "            "
   ]
  },
  {
   "cell_type": "code",
   "execution_count": 59,
   "metadata": {},
   "outputs": [
    {
     "name": "stdout",
     "output_type": "stream",
     "text": [
      "Добрый день! Я ваш персональный офисный помощник Алена. Чем я могу вам помочь?\n",
      "Нажмите 'p', если вы хотите узнать по номеру владельца документа.\n",
      "Нажмите 's', если вы хотите узнать по номеру документа номер полки.\n",
      "Нажмите 'l', если вы хотите вывести список всех документов.\n",
      "Нажмите 'as', если вы хотите добавить новую полку в перечень.\n",
      "Нажмите 'd', если вы хотите удалить документ из каталога и из перечня полок.\n",
      "Нажмите 'm', если вы хотите перенести документ на другую полку.\n",
      "Нажмите 'a', если вы хотите добавить новый документ.\n",
      "Введите код нужной команды: a\n",
      "Введите тип документаhsabk\n",
      "Введите номер документа2435\n",
      "Введите имя владельцаfdfhs\n",
      "На какой полке вы хотели бы его разместить? 3\n",
      "Документ с номером 2435 размещен на полке 3\n"
     ]
    }
   ],
   "source": [
    "alyona(documents,directories)\n"
   ]
  }
 ],
 "metadata": {
  "kernelspec": {
   "display_name": "Python 3",
   "language": "python",
   "name": "python3"
  },
  "language_info": {
   "codemirror_mode": {
    "name": "ipython",
    "version": 3
   },
   "file_extension": ".py",
   "mimetype": "text/x-python",
   "name": "python",
   "nbconvert_exporter": "python",
   "pygments_lexer": "ipython3",
   "version": "3.7.6"
  }
 },
 "nbformat": 4,
 "nbformat_minor": 2
}
